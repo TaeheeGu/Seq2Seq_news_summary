{
  "nbformat": 4,
  "nbformat_minor": 0,
  "metadata": {
    "colab": {
      "name": "summarization_model.ipynb",
      "provenance": [],
      "collapsed_sections": []
    },
    "kernelspec": {
      "name": "python3",
      "display_name": "Python 3"
    },
    "language_info": {
      "name": "python"
    },
    "accelerator": "GPU"
  },
  "cells": [
    {
      "cell_type": "code",
      "metadata": {
        "id": "13YtpN7kq9H2",
        "colab": {
          "base_uri": "https://localhost:8080/"
        },
        "outputId": "d6ca6f38-888c-4465-c7b8-93ca48105601"
      },
      "source": [
        "from google.colab import drive\n",
        "drive.mount('/content/drive/')"
      ],
      "execution_count": null,
      "outputs": [
        {
          "output_type": "stream",
          "text": [
            "Mounted at /content/drive/\n"
          ],
          "name": "stdout"
        }
      ]
    },
    {
      "cell_type": "code",
      "metadata": {
        "id": "7fNMSH4nrLpf"
      },
      "source": [
        "import numpy as np\n",
        "import pandas as pd\n",
        "\n",
        "data = pd.read_csv(\"/content/drive/MyDrive/project/news_summary_more.csv\",encoding='iso-8859-1')\n",
        "\n",
        "data.rename(columns = {'headlines' : 'summary'}, inplace = True) #headlines 열의 이름 summary로 변경"
      ],
      "execution_count": null,
      "outputs": []
    },
    {
      "cell_type": "code",
      "metadata": {
        "colab": {
          "base_uri": "https://localhost:8080/",
          "height": 161
        },
        "id": "OVy8ThhfwkFu",
        "outputId": "b2f97323-4c33-48a2-e512-e22e4f71cd01"
      },
      "source": [
        "print('data의 총 개수', len(data)) #데이터의 총 개수 확인\n",
        "data.head(3) #데이터의 형태 확인(최초 3개)"
      ],
      "execution_count": null,
      "outputs": [
        {
          "output_type": "stream",
          "text": [
            "data의 총 개수 98401\n"
          ],
          "name": "stdout"
        },
        {
          "output_type": "execute_result",
          "data": {
            "text/html": [
              "<div>\n",
              "<style scoped>\n",
              "    .dataframe tbody tr th:only-of-type {\n",
              "        vertical-align: middle;\n",
              "    }\n",
              "\n",
              "    .dataframe tbody tr th {\n",
              "        vertical-align: top;\n",
              "    }\n",
              "\n",
              "    .dataframe thead th {\n",
              "        text-align: right;\n",
              "    }\n",
              "</style>\n",
              "<table border=\"1\" class=\"dataframe\">\n",
              "  <thead>\n",
              "    <tr style=\"text-align: right;\">\n",
              "      <th></th>\n",
              "      <th>summary</th>\n",
              "      <th>text</th>\n",
              "    </tr>\n",
              "  </thead>\n",
              "  <tbody>\n",
              "    <tr>\n",
              "      <th>0</th>\n",
              "      <td>upGrad learner switches to career in ML &amp; Al w...</td>\n",
              "      <td>Saurav Kant, an alumnus of upGrad and IIIT-B's...</td>\n",
              "    </tr>\n",
              "    <tr>\n",
              "      <th>1</th>\n",
              "      <td>Delhi techie wins free food from Swiggy for on...</td>\n",
              "      <td>Kunal Shah's credit card bill payment platform...</td>\n",
              "    </tr>\n",
              "    <tr>\n",
              "      <th>2</th>\n",
              "      <td>New Zealand end Rohit Sharma-led India's 12-ma...</td>\n",
              "      <td>New Zealand defeated India by 8 wickets in the...</td>\n",
              "    </tr>\n",
              "  </tbody>\n",
              "</table>\n",
              "</div>"
            ],
            "text/plain": [
              "                                             summary                                               text\n",
              "0  upGrad learner switches to career in ML & Al w...  Saurav Kant, an alumnus of upGrad and IIIT-B's...\n",
              "1  Delhi techie wins free food from Swiggy for on...  Kunal Shah's credit card bill payment platform...\n",
              "2  New Zealand end Rohit Sharma-led India's 12-ma...  New Zealand defeated India by 8 wickets in the..."
            ]
          },
          "metadata": {
            "tags": []
          },
          "execution_count": 28
        }
      ]
    },
    {
      "cell_type": "code",
      "metadata": {
        "id": "NRem1yMmrMKV",
        "colab": {
          "base_uri": "https://localhost:8080/"
        },
        "outputId": "2b161464-8cd5-4e77-e4a3-8a5f435724dc"
      },
      "source": [
        "print(data.isnull().sum()) #null값의 개수 확인"
      ],
      "execution_count": null,
      "outputs": [
        {
          "output_type": "stream",
          "text": [
            "summary    0\n",
            "text       0\n",
            "dtype: int64\n"
          ],
          "name": "stdout"
        }
      ]
    },
    {
      "cell_type": "code",
      "metadata": {
        "id": "Rzo-omK6TDWl"
      },
      "source": [
        "!pip install contractions #contractions를 통해 약어 정규화위해 라이브러리 설치"
      ],
      "execution_count": null,
      "outputs": []
    },
    {
      "cell_type": "code",
      "metadata": {
        "colab": {
          "base_uri": "https://localhost:8080/"
        },
        "id": "qZd4nyOwTdnh",
        "outputId": "1093266a-9684-42c1-a771-e99b1e842de0"
      },
      "source": [
        "import nltk\n",
        "nltk.download('stopwords')\n",
        "from nltk.corpus import stopwords #불용어 확인을 위한 import\n",
        "\n",
        "stop_words = set(stopwords.words('english'))"
      ],
      "execution_count": null,
      "outputs": [
        {
          "output_type": "stream",
          "text": [
            "[nltk_data] Downloading package stopwords to /root/nltk_data...\n",
            "[nltk_data]   Unzipping corpora/stopwords.zip.\n"
          ],
          "name": "stdout"
        }
      ]
    },
    {
      "cell_type": "markdown",
      "metadata": {
        "id": "AmJGqNtXUQx_"
      },
      "source": [
        "#전처리 함수"
      ]
    },
    {
      "cell_type": "code",
      "metadata": {
        "id": "Vng8vP14tP3Y"
      },
      "source": [
        "import re\n",
        "import contractions\n",
        "\n",
        "def preprocing(text,  stopword = True): #전처리를 위한 함수, 약어의 정규화, 불필요한 기호 및 공백 삭제와 변경\n",
        "  \n",
        "  expanded_words = []    \n",
        "  for word in text.split():  # contractions를 이용하여 약어 정규화\n",
        "    expanded_words.append(contractions.fix(word))      \n",
        "  text = ' '.join(expanded_words)\n",
        "        \n",
        "  text=re.sub(\"(\\\\t)\", ' ', text).lower() #공백 문자열 제거\n",
        "  text=re.sub(\"(\\\\r)\", ' ', text).lower() \n",
        "  text=re.sub(\"(\\\\n)\", ' ', text).lower()\n",
        "        \n",
        "  text=re.sub(\"(__+)\", ' ', text).lower()  #_문자가 연속 두 번 이상일 경우 삭제\n",
        "  text=re.sub(\"(--+)\", ' ', text).lower()   #-문자가 연속 두 번 이상일 경우 삭제\n",
        "  text=re.sub(\"(~~+)\", ' ', text).lower()   #~문자가 연속 두 번 이상일 경우 삭제\n",
        "  text=re.sub(\"(\\+\\++)\", ' ', text).lower()   #+문자가 연속 두 번 이상일 경우 삭제\n",
        "  text=re.sub(\"(\\.\\.+)\", ' ', text).lower()   #.문자가 연속 두 번 이상일 경우 삭제\n",
        "\n",
        "  #데이터에서 불필요한 문자와 공백들 삭제      \n",
        "  text=re.sub(r\"[<>()|&©ø\\[\\]\\'\\\",;?~*!]\", ' ', text).lower() #<>()|&©ø\"',;?~*!\n",
        "  text=re.sub(\"(mailto:)\", ' ', text).lower() #mailto:\n",
        "  text=re.sub(r\"(\\\\x9\\d)\", ' ', text).lower() #\\x9*\n",
        "  text=re.sub(\"([iI][nN][cC]\\d+)\", 'INC_NUM', text).lower() \n",
        "  text=re.sub(\"([cC][mM]\\d+)|([cC][hH][gG]\\d+)\", 'CM_NUM', text).lower() \n",
        "  text=re.sub(\"(\\.\\s+)\", ' ', text).lower() \n",
        "  text=re.sub(\"(\\-\\s+)\", ' ', text).lower() \n",
        "  text=re.sub(\"(\\:\\s+)\", ' ', text).lower() \n",
        "  text=re.sub(\"(\\s+.\\s+)\", ' ', text).lower() \n",
        "        \n",
        "  #url 문자열 변환 ex)  https://abc.xyz.net/browse/sdf-5327 ====> abc.xyz.net\n",
        "  try:\n",
        "    url = re.search(r'((https*:\\/*)([^\\/\\s]+))(.[^\\s]+)', text)\n",
        "    repl_url = url.group(3)\n",
        "    text = re.sub(r'((https*:\\/*)([^\\/\\s]+))(.[^\\s]+)',repl_url, text)\n",
        "  except:\n",
        "    pass #url 없는 경우\n",
        "\n",
        "  text = re.sub(\"(\\s+)\",' ',text).lower() #다중 공백 제거\n",
        "  text=re.sub(\"(\\s+.\\s+)\", ' ', text).lower() #공백 사이 한 글자 제거\n",
        "\n",
        "  # 불용어 제거\n",
        "  if stopword:\n",
        "    tokens = ' '.join(word for word in text.split() if not word in stop_words if len(word) > 1)\n",
        "  # 불용어 미제거\n",
        "  else:\n",
        "    tokens = ' '.join(word for word in text.split() if len(word) > 1)\n",
        "\n",
        "  return tokens"
      ],
      "execution_count": null,
      "outputs": []
    },
    {
      "cell_type": "code",
      "metadata": {
        "colab": {
          "base_uri": "https://localhost:8080/"
        },
        "id": "fg4yujn49Bxm",
        "outputId": "f3396e23-9393-4211-e72f-cf4e1f836ecc"
      },
      "source": [
        "clean_text = [] #전처리 함수를 적용한 text 열\n",
        "for s in data['text']:\n",
        "  clean_text.append(preprocing(s)) #불용어 제거\n",
        "clean_text[:5]"
      ],
      "execution_count": null,
      "outputs": [
        {
          "output_type": "execute_result",
          "data": {
            "text/plain": [
              "['saurav kant alumnus upgrad iiit-b pg program machine learning artificial intelligence sr systems engineer infosys almost years work experience program upgrad 360-degree career support helped transition data scientist tech mahindra 90% salary hike upgrad online power learning powered lakh+ careers.',\n",
              " 'kunal shah credit card bill payment platform cred gave users chance win free food swiggy one year pranav kaushik delhi techie bagged reward spending 2000 cred coins users get one cred coin per rupee bill paid used avail rewards brands like ixigo bookmyshow ubereats cult.fit more.',\n",
              " 'new zealand defeated india wickets fourth odi hamilton thursday win first match five-match odi series india lost international match rohit sharma captaincy 12 consecutive victories dating back march 2018 match witnessed india getting 92 seventh lowest total odi cricket history.',\n",
              " 'aegon life iterm insurance plan customers enjoy tax benefits premiums paid save ã¢â\\x82â¹46 800^ taxes plan provides life cover age 100 years also customers options insure critical illnesses disability accidental death benefit rider life cover age 80 years.',\n",
              " 'speaking sexual harassment allegations rajkumar hirani sonam kapoor said known hirani many years true #metoo movement get derailed #metoo movement always believe woman case need reserve judgment added hirani accused assistant worked sanju']"
            ]
          },
          "metadata": {
            "tags": []
          },
          "execution_count": 34
        }
      ]
    },
    {
      "cell_type": "code",
      "metadata": {
        "colab": {
          "base_uri": "https://localhost:8080/"
        },
        "id": "1zH06TdBBjVm",
        "outputId": "23f97e65-fb54-4d1d-f8b3-ebc80915ff71"
      },
      "source": [
        "clean_summary = [] #전처리 함수를 적용한 summary 열\n",
        "for s in data['summary']:\n",
        "  clean_summary.append(preprocing(s, 0)) #불용어 미제거\n",
        "clean_summary[:5]"
      ],
      "execution_count": null,
      "outputs": [
        {
          "output_type": "execute_result",
          "data": {
            "text/plain": [
              "['upgrad learner switches to career in ml al with 90% salary hike',\n",
              " 'delhi techie wins free food from swiggy for one year on cred',\n",
              " 'new zealand end rohit sharma-led india 12-match winning streak',\n",
              " 'aegon life iterm insurance plan helps customers save tax',\n",
              " 'have known hirani for yrs what if metoo claims are not true sonam']"
            ]
          },
          "metadata": {
            "tags": []
          },
          "execution_count": 35
        }
      ]
    },
    {
      "cell_type": "code",
      "metadata": {
        "colab": {
          "base_uri": "https://localhost:8080/"
        },
        "id": "FRvKtdAPLz1U",
        "outputId": "480fcaac-7a71-46d4-e383-5a076415833f"
      },
      "source": [
        "data['text'] = clean_text\n",
        "data['summary'] = clean_summary\n",
        "\n",
        "# 길이가 공백인 샘플은 NULL 값으로 변환\n",
        "data.replace('', np.nan, inplace=True)\n",
        "print(data.isnull().sum())"
      ],
      "execution_count": null,
      "outputs": [
        {
          "output_type": "stream",
          "text": [
            "summary    0\n",
            "text       0\n",
            "dtype: int64\n"
          ],
          "name": "stdout"
        }
      ]
    },
    {
      "cell_type": "code",
      "metadata": {
        "colab": {
          "base_uri": "https://localhost:8080/",
          "height": 206
        },
        "id": "Rcu6Ig1MNrd6",
        "outputId": "41147bf7-3018-4542-8d78-f50424383dd1"
      },
      "source": [
        "data.head()"
      ],
      "execution_count": null,
      "outputs": [
        {
          "output_type": "execute_result",
          "data": {
            "text/html": [
              "<div>\n",
              "<style scoped>\n",
              "    .dataframe tbody tr th:only-of-type {\n",
              "        vertical-align: middle;\n",
              "    }\n",
              "\n",
              "    .dataframe tbody tr th {\n",
              "        vertical-align: top;\n",
              "    }\n",
              "\n",
              "    .dataframe thead th {\n",
              "        text-align: right;\n",
              "    }\n",
              "</style>\n",
              "<table border=\"1\" class=\"dataframe\">\n",
              "  <thead>\n",
              "    <tr style=\"text-align: right;\">\n",
              "      <th></th>\n",
              "      <th>summary</th>\n",
              "      <th>text</th>\n",
              "    </tr>\n",
              "  </thead>\n",
              "  <tbody>\n",
              "    <tr>\n",
              "      <th>0</th>\n",
              "      <td>upgrad learner switches to career in ml al wit...</td>\n",
              "      <td>saurav kant alumnus upgrad iiit-b pg program m...</td>\n",
              "    </tr>\n",
              "    <tr>\n",
              "      <th>1</th>\n",
              "      <td>delhi techie wins free food from swiggy for on...</td>\n",
              "      <td>kunal shah credit card bill payment platform c...</td>\n",
              "    </tr>\n",
              "    <tr>\n",
              "      <th>2</th>\n",
              "      <td>new zealand end rohit sharma-led india 12-matc...</td>\n",
              "      <td>new zealand defeated india wickets fourth odi ...</td>\n",
              "    </tr>\n",
              "    <tr>\n",
              "      <th>3</th>\n",
              "      <td>aegon life iterm insurance plan helps customer...</td>\n",
              "      <td>aegon life iterm insurance plan customers enjo...</td>\n",
              "    </tr>\n",
              "    <tr>\n",
              "      <th>4</th>\n",
              "      <td>have known hirani for yrs what if metoo claims...</td>\n",
              "      <td>speaking sexual harassment allegations rajkuma...</td>\n",
              "    </tr>\n",
              "  </tbody>\n",
              "</table>\n",
              "</div>"
            ],
            "text/plain": [
              "                                             summary                                               text\n",
              "0  upgrad learner switches to career in ml al wit...  saurav kant alumnus upgrad iiit-b pg program m...\n",
              "1  delhi techie wins free food from swiggy for on...  kunal shah credit card bill payment platform c...\n",
              "2  new zealand end rohit sharma-led india 12-matc...  new zealand defeated india wickets fourth odi ...\n",
              "3  aegon life iterm insurance plan helps customer...  aegon life iterm insurance plan customers enjo...\n",
              "4  have known hirani for yrs what if metoo claims...  speaking sexual harassment allegations rajkuma..."
            ]
          },
          "metadata": {
            "tags": []
          },
          "execution_count": 37
        }
      ]
    },
    {
      "cell_type": "markdown",
      "metadata": {
        "id": "x9XypkfnUMLs"
      },
      "source": [
        "#데이터 분포 확인"
      ]
    },
    {
      "cell_type": "code",
      "metadata": {
        "id": "H34mXeNfdlZT",
        "colab": {
          "base_uri": "https://localhost:8080/",
          "height": 957
        },
        "outputId": "d35d2400-abcd-48b0-9a6e-66f2cd43c1a1"
      },
      "source": [
        "import matplotlib.pyplot as plt\n",
        "\n",
        "# 길이 분포 출력\n",
        "text_len = [len(s.split()) for s in data['text']]\n",
        "summary_len = [len(s.split()) for s in data['summary']]\n",
        "\n",
        "print('텍스트의 최소 길이 : {}'.format(np.min(text_len)))\n",
        "print('텍스트의 최대 길이 : {}'.format(np.max(text_len)))\n",
        "print('텍스트의 평균 길이 : {}'.format(np.mean(text_len)))\n",
        "print('요약의 최소 길이 : {}'.format(np.min(summary_len)))\n",
        "print('요약의 최대 길이 : {}'.format(np.max(summary_len)))\n",
        "print('요약의 평균 길이 : {}'.format(np.mean(summary_len)))\n",
        "\n",
        "plt.subplot(1,2,1)\n",
        "plt.boxplot(summary_len)\n",
        "plt.title('summary')\n",
        "plt.subplot(1,2,2)\n",
        "plt.boxplot(text_len)\n",
        "plt.title('Text')\n",
        "plt.tight_layout()\n",
        "plt.show()\n",
        "\n",
        "plt.title('summary')\n",
        "plt.hist(summary_len, bins=40)\n",
        "plt.xlabel('length of samples')\n",
        "plt.ylabel('number of samples')\n",
        "plt.show()\n",
        "\n",
        "plt.title('text')\n",
        "plt.hist(text_len, bins=40)\n",
        "plt.xlabel('length of samples')\n",
        "plt.ylabel('number of samples')\n",
        "plt.show()"
      ],
      "execution_count": null,
      "outputs": [
        {
          "output_type": "stream",
          "text": [
            "텍스트의 최소 길이 : 1\n",
            "텍스트의 최대 길이 : 65\n",
            "텍스트의 평균 길이 : 35.92512271216756\n",
            "요약의 최소 길이 : 1\n",
            "요약의 최대 길이 : 17\n",
            "요약의 평균 길이 : 9.443867440371541\n"
          ],
          "name": "stdout"
        },
        {
          "output_type": "display_data",
          "data": {
            "image/png": "[encoded data removed]",
            "text/plain": [
              "<Figure size 432x288 with 2 Axes>"
            ]
          },
          "metadata": {
            "tags": [],
            "needs_background": "light"
          }
        },
        {
          "output_type": "display_data",
          "data": {
            "image/png": "[encoded data removed]",
            "text/plain": [
              "<Figure size 432x288 with 1 Axes>"
            ]
          },
          "metadata": {
            "tags": [],
            "needs_background": "light"
          }
        },
        {
          "output_type": "display_data",
          "data": {
            "image/png": "[encoded data removed]",
            "text/plain": [
              "<Figure size 432x288 with 1 Axes>"
            ]
          },
          "metadata": {
            "tags": [],
            "needs_background": "light"
          }
        }
      ]
    },
    {
      "cell_type": "code",
      "metadata": {
        "id": "XQwkw7hiUoW8"
      },
      "source": [
        "max_text_len=40\n",
        "max_summary_len=10\n",
        "\n",
        "def threshold_len(max_len, nested_list):\n",
        "  cnt = 0\n",
        "  for s in nested_list:\n",
        "    if(len(s.split()) <= max_len):\n",
        "        cnt = cnt + 1\n",
        "  print('전체 샘플 중 길이가 %s 이하인 샘플의 비율: %s'%(max_len, (cnt / len(nested_list))))"
      ],
      "execution_count": null,
      "outputs": []
    },
    {
      "cell_type": "code",
      "metadata": {
        "colab": {
          "base_uri": "https://localhost:8080/"
        },
        "id": "fY40RZBRUr5D",
        "outputId": "9ae6a1bd-9f79-4ac0-a2a0-859137db0bbd"
      },
      "source": [
        "threshold_len(max_text_len, data['text'])\n",
        "threshold_len(max_summary_len, data['summary'])"
      ],
      "execution_count": null,
      "outputs": [
        {
          "output_type": "stream",
          "text": [
            "전체 샘플 중 길이가 40 이하인 샘플의 비율: 0.8886291805977582\n",
            "전체 샘플 중 길이가 10 이하인 샘플의 비율: 0.7791384233900062\n"
          ],
          "name": "stdout"
        }
      ]
    },
    {
      "cell_type": "code",
      "metadata": {
        "colab": {
          "base_uri": "https://localhost:8080/"
        },
        "id": "lEtUbgJqUsRP",
        "outputId": "06a7274a-ad15-40a5-85b0-57c15d692ab8"
      },
      "source": [
        "#지정된 max_len보다 큰 데이터 제거\n",
        "data = data[data['text'].apply(lambda x: len(x.split()) <= max_text_len)]\n",
        "data = data[data['summary'].apply(lambda x: len(x.split()) <= max_summary_len)]\n",
        "print('전체 샘플수 :',(len(data)))"
      ],
      "execution_count": null,
      "outputs": [
        {
          "output_type": "stream",
          "text": [
            "전체 샘플수 : 68363\n"
          ],
          "name": "stdout"
        }
      ]
    },
    {
      "cell_type": "markdown",
      "metadata": {
        "id": "XHKHs1XkVCcu"
      },
      "source": [
        "#시작 토큰과 종료 토큰 추가"
      ]
    },
    {
      "cell_type": "code",
      "metadata": {
        "id": "lFH53W25U5TB"
      },
      "source": [
        " # 요약 데이터에는 시작 토큰과 종료 토큰을 추가한다\n",
        "data['summary'] = data['summary'].apply(lambda x : 'sostok '+ x + ' eostok')"
      ],
      "execution_count": null,
      "outputs": []
    },
    {
      "cell_type": "code",
      "metadata": {
        "colab": {
          "base_uri": "https://localhost:8080/",
          "height": 143
        },
        "id": "-rbiAmaWVMRK",
        "outputId": "241b2874-85dc-4129-a19f-5717dff146bd"
      },
      "source": [
        "data.head(3)"
      ],
      "execution_count": null,
      "outputs": [
        {
          "output_type": "execute_result",
          "data": {
            "text/html": [
              "<div>\n",
              "<style scoped>\n",
              "    .dataframe tbody tr th:only-of-type {\n",
              "        vertical-align: middle;\n",
              "    }\n",
              "\n",
              "    .dataframe tbody tr th {\n",
              "        vertical-align: top;\n",
              "    }\n",
              "\n",
              "    .dataframe thead th {\n",
              "        text-align: right;\n",
              "    }\n",
              "</style>\n",
              "<table border=\"1\" class=\"dataframe\">\n",
              "  <thead>\n",
              "    <tr style=\"text-align: right;\">\n",
              "      <th></th>\n",
              "      <th>summary</th>\n",
              "      <th>text</th>\n",
              "    </tr>\n",
              "  </thead>\n",
              "  <tbody>\n",
              "    <tr>\n",
              "      <th>2</th>\n",
              "      <td>sostok new zealand end rohit sharma-led india ...</td>\n",
              "      <td>new zealand defeated india wickets fourth odi ...</td>\n",
              "    </tr>\n",
              "    <tr>\n",
              "      <th>3</th>\n",
              "      <td>sostok aegon life iterm insurance plan helps c...</td>\n",
              "      <td>aegon life iterm insurance plan customers enjo...</td>\n",
              "    </tr>\n",
              "    <tr>\n",
              "      <th>5</th>\n",
              "      <td>sostok rahat fateh ali khan denies getting not...</td>\n",
              "      <td>pakistani singer rahat fateh ali khan denied r...</td>\n",
              "    </tr>\n",
              "  </tbody>\n",
              "</table>\n",
              "</div>"
            ],
            "text/plain": [
              "                                             summary                                               text\n",
              "2  sostok new zealand end rohit sharma-led india ...  new zealand defeated india wickets fourth odi ...\n",
              "3  sostok aegon life iterm insurance plan helps c...  aegon life iterm insurance plan customers enjo...\n",
              "5  sostok rahat fateh ali khan denies getting not...  pakistani singer rahat fateh ali khan denied r..."
            ]
          },
          "metadata": {
            "tags": []
          },
          "execution_count": 51
        }
      ]
    },
    {
      "cell_type": "markdown",
      "metadata": {
        "id": "gaPf0sZRj19W"
      },
      "source": [
        "# 데이터 분리"
      ]
    },
    {
      "cell_type": "code",
      "metadata": {
        "id": "N2f1jvWEyaFT"
      },
      "source": [
        "#데이터 분리\n",
        "from sklearn.model_selection import train_test_split\n",
        "x_train, x_val, y_train, y_val = train_test_split(data['text'],data['summary'],test_size=0.2,random_state=0,shuffle=True)"
      ],
      "execution_count": null,
      "outputs": []
    },
    {
      "cell_type": "markdown",
      "metadata": {
        "id": "tRUkQrX8kGia"
      },
      "source": [
        "#정수 인코딩 및 패딩"
      ]
    },
    {
      "cell_type": "code",
      "metadata": {
        "id": "udTCfrMOmPzU"
      },
      "source": [
        "from tensorflow.keras.preprocessing.text import Tokenizer \n",
        "from tensorflow.keras.preprocessing.sequence import pad_sequences\n",
        "\n",
        "max_text_len=40\n",
        "max_summary_len=10\n",
        "\n",
        "x_tokenizer = Tokenizer()\n",
        "x_tokenizer.fit_on_texts(list(x_train)) #원문(x_train)에 대한 인코딩"
      ],
      "execution_count": null,
      "outputs": []
    },
    {
      "cell_type": "code",
      "metadata": {
        "colab": {
          "base_uri": "https://localhost:8080/"
        },
        "id": "bi5xRRvcpPEf",
        "outputId": "fb843255-b448-452b-f373-f1bcb2521913"
      },
      "source": [
        "threshold=4\n",
        "\n",
        "cnt=0 #등장 빈도가 threshhold 이하의 단어 수\n",
        "tot_cnt=len(x_tokenizer.word_index) # 단어의 수\n",
        "freq=0 #등장 빈도수가 threshold보다 작은 단어의 등장 빈도수의 총 합\n",
        "tot_freq=0 #훈련 데이터의 전체 단어 빈도수 총 합\n",
        "\n",
        "for key,value in x_tokenizer.word_counts.items(): # 단어와 빈도수의 쌍(pair)을 key와 value로 받는다.\n",
        "    tot_freq=tot_freq+value\n",
        "    if(value<threshold):\n",
        "        cnt=cnt+1\n",
        "        freq=freq+value\n",
        "    \n",
        "print('단어 집합(vocabulary)의 크기 :',tot_cnt)\n",
        "print('등장 빈도가 %s번 이하인 희귀 단어의 수: %s'%(threshold - 1, cnt))\n",
        "print('단어 집합에서 희귀 단어를 제외시킬 경우의 단어 집합의 크기 %s'%(tot_cnt - cnt))\n",
        "print(\"단어 집합에서 희귀 단어의 비율:\", (cnt / tot_cnt)*100)\n",
        "print(\"전체 등장 빈도에서 희귀 단어 등장 빈도 비율:\", (freq / tot_freq)*100)"
      ],
      "execution_count": null,
      "outputs": [
        {
          "output_type": "stream",
          "text": [
            "단어 집합(vocabulary)의 크기 : 64414\n",
            "등장 빈도가 3번 이하인 희귀 단어의 수: 37739\n",
            "단어 집합에서 희귀 단어를 제외시킬 경우의 단어 집합의 크기 26675\n",
            "단어 집합에서 희귀 단어의 비율: 58.58819511286366\n",
            "전체 등장 빈도에서 희귀 단어 등장 빈도 비율: 2.8615740070161553\n"
          ],
          "name": "stdout"
        }
      ]
    },
    {
      "cell_type": "code",
      "metadata": {
        "id": "uTlerG8rqeRd"
      },
      "source": [
        "#등장 빈도가 threshold 미만인 경우 배제\n",
        "x_tokenizer = Tokenizer(num_words = tot_cnt - cnt) \n",
        "x_tokenizer.fit_on_texts(list(x_train))\n",
        "\n",
        "# 텍스트 시퀀스를 정수 시퀀스로 변환\n",
        "x_train_seq = x_tokenizer.texts_to_sequences(x_train) \n",
        "x_val_seq = x_tokenizer.texts_to_sequences(x_val)"
      ],
      "execution_count": null,
      "outputs": []
    },
    {
      "cell_type": "code",
      "metadata": {
        "id": "nzTCD5Ajpj7G"
      },
      "source": [
        "y_tokenizer = Tokenizer()\n",
        "y_tokenizer.fit_on_texts(list(y_train)) #레이블에 해당하는 요약 데이터에 대한 인코딩"
      ],
      "execution_count": null,
      "outputs": []
    },
    {
      "cell_type": "code",
      "metadata": {
        "colab": {
          "base_uri": "https://localhost:8080/"
        },
        "id": "mW896EvvpeVd",
        "outputId": "b8c20657-fc42-4242-cdb2-883367463eae"
      },
      "source": [
        "threshold=6\n",
        "\n",
        "cnt=0 #등장 빈도가 threshhold 이하의 단어 수\n",
        "tot_cnt=len(y_tokenizer.word_index) # 단어의 수\n",
        "freq=0 #등장 빈도수가 threshold보다 작은 단어의 등장 빈도수의 총 합\n",
        "tot_freq=0 #훈련 데이터의 전체 단어 빈도수 총 합\n",
        "\n",
        "for key,value in y_tokenizer.word_counts.items(): # 단어와 빈도수의 쌍(pair)을 key와 value로 받는다.\n",
        "    tot_freq=tot_freq+value\n",
        "    if(value<threshold):\n",
        "        cnt=cnt+1\n",
        "        freq=freq+value\n",
        "    \n",
        "print('단어 집합(vocabulary)의 크기 :',tot_cnt)\n",
        "print('등장 빈도가 %s번 이하인 희귀 단어의 수: %s'%(threshold - 1, cnt))\n",
        "print('단어 집합에서 희귀 단어를 제외시킬 경우의 단어 집합의 크기 %s'%(tot_cnt - cnt))\n",
        "print(\"단어 집합에서 희귀 단어의 비율:\", (cnt / tot_cnt)*100)\n",
        "print(\"전체 등장 빈도에서 희귀 단어 등장 빈도 비율:\", (freq / tot_freq)*100)"
      ],
      "execution_count": null,
      "outputs": [
        {
          "output_type": "stream",
          "text": [
            "단어 집합(vocabulary)의 크기 : 28752\n",
            "등장 빈도가 5번 이하인 희귀 단어의 수: 19672\n",
            "단어 집합에서 희귀 단어를 제외시킬 경우의 단어 집합의 크기 9080\n",
            "단어 집합에서 희귀 단어의 비율: 68.41958820255982\n",
            "전체 등장 빈도에서 희귀 단어 등장 빈도 비율: 6.072331653612223\n"
          ],
          "name": "stdout"
        }
      ]
    },
    {
      "cell_type": "code",
      "metadata": {
        "id": "p5M3YFYFpsS8"
      },
      "source": [
        "#등장 빈도가 threshold 미만인 경우 배제\n",
        "y_tokenizer = Tokenizer(num_words = tot_cnt - cnt) \n",
        "y_tokenizer.fit_on_texts(list(y_train))\n",
        "\n",
        "#텍스트 시퀀스를 정수 시퀀스로 변환\n",
        "y_train_seq    =   y_tokenizer.texts_to_sequences(y_train) \n",
        "y_val_seq   =   y_tokenizer.texts_to_sequences(y_val)"
      ],
      "execution_count": null,
      "outputs": []
    },
    {
      "cell_type": "code",
      "metadata": {
        "colab": {
          "base_uri": "https://localhost:8080/"
        },
        "id": "wwwRdGFacRZQ",
        "outputId": "7a06e3f0-ec1e-411d-bc66-f1a9c8221f95"
      },
      "source": [
        "#최대 길이에 맞춰 패딩\n",
        "x_train    =   pad_sequences(x_train_seq,  maxlen=max_text_len, padding='post')\n",
        "x_val   =   pad_sequences(x_val_seq, maxlen=max_text_len, padding='post')\n",
        "\n",
        "#vocabulary의 크기 확인\n",
        "x_voc   =  x_tokenizer.num_words + 1\n",
        "print(\"Size of vocabulary in X = {}\".format(x_voc))\n",
        "\n",
        "y_train    =   pad_sequences(y_train_seq, maxlen=max_summary_len, padding='post')\n",
        "y_val   =   pad_sequences(y_val_seq, maxlen=max_summary_len, padding='post')\n",
        "\n",
        "#vocabulary의 크기 확인\n",
        "y_voc  =   y_tokenizer.num_words +1\n",
        "print(\"Size of vocabulary in Y = {}\".format(y_voc))"
      ],
      "execution_count": null,
      "outputs": [
        {
          "output_type": "stream",
          "text": [
            "Size of vocabulary in X = 26676\n",
            "Size of vocabulary in Y = 9081\n"
          ],
          "name": "stdout"
        }
      ]
    },
    {
      "cell_type": "code",
      "metadata": {
        "colab": {
          "base_uri": "https://localhost:8080/"
        },
        "id": "o0ACMwiUZrFR",
        "outputId": "1f6fe102-31d5-4db0-eb4a-d1efb48a71b3"
      },
      "source": [
        "#패딩 결과 확인\n",
        "print(x_train[:3])\n",
        "print(y_train[:3])"
      ],
      "execution_count": null,
      "outputs": [
        {
          "output_type": "stream",
          "text": [
            "[[   42   136   551     8  4279   459  3079   679    82  2699    14  4600\n",
            "    292  3451  2851    14     7   292  4790   679    13    46    21     2\n",
            "     31   393   293   209  3004  3451   679  2380    18     8     0     0\n",
            "      0     0     0     0]\n",
            " [  205    20  1173  3678  4236  3160  6499  6202 19609    30   254 23574\n",
            "    187   465   294   387 17066  5332   504  3548  3161  3788   374    33\n",
            "      9   105   254    49    15  2289  3080  1679  1817   465    10    25\n",
            "    486     0     0     0]\n",
            " [ 4155   897   402   163    79  1452  1258   185   245 18242    18   897\n",
            "    991  2290 18242    17    35  2396   883  4970   105  1628  2396    35\n",
            "   9023  1771  2329   154  2643  2329  2080  3060   165     0     0     0\n",
            "      0     0     0     0]]\n",
            "[[   1  382  187 3751 4056 1607 3134 2795 1118    2]\n",
            " [   1   42 6093 4846    4  233   66 2946 4847    2]\n",
            " [   1 2564  733  302   96  135   41  206    2    0]]\n"
          ],
          "name": "stdout"
        }
      ]
    },
    {
      "cell_type": "markdown",
      "metadata": {
        "id": "kdgsEaRjk9g-"
      },
      "source": [
        "#빈 샘플 제거"
      ]
    },
    {
      "cell_type": "code",
      "metadata": {
        "id": "4iwPqYZLHy86",
        "colab": {
          "base_uri": "https://localhost:8080/"
        },
        "outputId": "15a11ead-472d-4bab-82ce-248e35113e21"
      },
      "source": [
        "drop_train = [index for index, sentence in enumerate(y_train) if len(sentence) == 1]\n",
        "drop_test = [index for index, sentence in enumerate(y_val) if len(sentence) == 1]\n",
        "\n",
        "#등장빈도에 따른 배제의 결과 생길 수 있는 비어있는 샘플 확인\n",
        "print('삭제할 훈련 데이터의 개수 :',len(drop_train))\n",
        "print('삭제할 테스트 데이터의 개수 :',len(drop_test))"
      ],
      "execution_count": null,
      "outputs": [
        {
          "output_type": "stream",
          "text": [
            "삭제할 훈련 데이터의 개수 : 0\n",
            "삭제할 테스트 데이터의 개수 : 0\n"
          ],
          "name": "stdout"
        }
      ]
    },
    {
      "cell_type": "code",
      "metadata": {
        "colab": {
          "base_uri": "https://localhost:8080/"
        },
        "id": "Rctyf1T0xNoL",
        "outputId": "d304f181-f0c2-48ca-b408-11bfb8dc57f2"
      },
      "source": [
        "#최종 데이터 수\n",
        "print('훈련 데이터의 개수 :', len(x_train))\n",
        "print('훈련 레이블의 개수 :',len(y_train))\n",
        "print('테스트 데이터의 개수 :',len(x_val))\n",
        "print('테스트 레이블의 개수 :',len(y_val))"
      ],
      "execution_count": null,
      "outputs": [
        {
          "output_type": "stream",
          "text": [
            "훈련 데이터의 개수 : 54690\n",
            "훈련 레이블의 개수 : 54690\n",
            "테스트 데이터의 개수 : 13673\n",
            "테스트 레이블의 개수 : 13673\n"
          ],
          "name": "stdout"
        }
      ]
    },
    {
      "cell_type": "markdown",
      "metadata": {
        "id": "OnMT8a_FlTqS"
      },
      "source": [
        "#모델 설계 및 트레이닝\n",
        "seq2seq + attention"
      ]
    },
    {
      "cell_type": "code",
      "metadata": {
        "id": "P3-c9rktqSe2"
      },
      "source": [
        "import urllib.request\n",
        "from tensorflow.keras.layers import Input, LSTM, Embedding, Dense, Concatenate\n",
        "from tensorflow.keras.models import Model\n",
        "from tensorflow.keras.callbacks import EarlyStopping, ModelCheckpoint"
      ],
      "execution_count": null,
      "outputs": []
    },
    {
      "cell_type": "markdown",
      "metadata": {
        "id": "9zSUeHiRnuj0"
      },
      "source": [
        "Gitub에 공개된 attention.py 사용(바다나우 어텐션)"
      ]
    },
    {
      "cell_type": "code",
      "metadata": {
        "id": "3rmBqX2Cra2-"
      },
      "source": [
        "urllib.request.urlretrieve(\"https://raw.githubusercontent.com/thushv89/attention_keras/master/src/layers/attention.py\", filename=\"attention.py\")\n",
        "from attention import AttentionLayer"
      ],
      "execution_count": null,
      "outputs": []
    },
    {
      "cell_type": "code",
      "metadata": {
        "id": "PfARHh3rlecA"
      },
      "source": [
        "embedding_dim = 200\n",
        "hidden_size = 300\n",
        "\n",
        "# 인코더\n",
        "encoder_inputs = Input(shape=(max_text_len,))\n",
        "\n",
        "# 인코더의 임베딩 층\n",
        "enc_emb =  Embedding(x_voc, embedding_dim,trainable=True)(encoder_inputs)\n",
        "\n",
        "# 인코더의 LSTM 1\n",
        "encoder_lstm1 = LSTM(hidden_size, return_sequences=True, return_state=True ,dropout = 0.4, recurrent_dropout = 0.4)\n",
        "encoder_output1, state_h1, state_c1 = encoder_lstm1(enc_emb)\n",
        "\n",
        "# 인코더의 LSTM 2\n",
        "encoder_lstm2 = LSTM(hidden_size, return_sequences=True, return_state=True, dropout=0.4, recurrent_dropout=0.4)\n",
        "encoder_output2, state_h2, state_c2 = encoder_lstm2(encoder_output1)\n",
        "\n",
        "# 인코더의 LSTM 3\n",
        "encoder_lstm3 = LSTM(hidden_size, return_state=True, return_sequences=True, dropout=0.4, recurrent_dropout=0.4)\n",
        "encoder_outputs, state_h, state_c= encoder_lstm3(encoder_output2)"
      ],
      "execution_count": null,
      "outputs": []
    },
    {
      "cell_type": "code",
      "metadata": {
        "id": "4p5pj4EhliOu"
      },
      "source": [
        "# 디코더\n",
        "decoder_inputs = Input(shape=(None,))\n",
        "\n",
        "# 디코더의 임베딩 층\n",
        "dec_emb_layer = Embedding(y_voc, embedding_dim, trainable=True)\n",
        "dec_emb = dec_emb_layer(decoder_inputs)\n",
        "\n",
        "# 디코더의 LSTM\n",
        "decoder_lstm = LSTM(hidden_size, return_sequences = True, return_state = True, dropout = 0.4, recurrent_dropout=0.2)\n",
        "decoder_outputs, _, _ = decoder_lstm(dec_emb, initial_state = [state_h, state_c])"
      ],
      "execution_count": null,
      "outputs": []
    },
    {
      "cell_type": "markdown",
      "metadata": {
        "id": "s9a4pM4nnnyB"
      },
      "source": [
        "어텐션 메커니즘을 이용해 디코더의 출력층 설계"
      ]
    },
    {
      "cell_type": "code",
      "metadata": {
        "id": "mapEBuv4nEpr"
      },
      "source": [
        "# 어텐션 층(어텐션 함수)\n",
        "attn_layer = AttentionLayer(name='attention_layer')\n",
        "attn_out, attn_states = attn_layer([encoder_outputs, decoder_outputs])\n",
        "\n",
        "# 어텐션의 결과와 디코더의 hidden state들을 연결\n",
        "decoder_concat_input = Concatenate(axis = -1, name='concat_layer')([decoder_outputs, attn_out])\n",
        "\n",
        "# 디코더의 출력층\n",
        "decoder_softmax_layer = Dense(y_voc, activation='softmax')\n",
        "decoder_softmax_outputs = decoder_softmax_layer(decoder_concat_input)\n",
        "\n",
        "# 모델 정의\n",
        "model = Model([encoder_inputs, decoder_inputs], decoder_softmax_outputs)\n",
        "model.summary()"
      ],
      "execution_count": null,
      "outputs": []
    },
    {
      "cell_type": "code",
      "metadata": {
        "id": "o-q3NRzdnLkn"
      },
      "source": [
        "model.compile(optimizer='rmsprop', loss='sparse_categorical_crossentropy')"
      ],
      "execution_count": null,
      "outputs": []
    },
    {
      "cell_type": "code",
      "metadata": {
        "id": "ja3QwNMsHniD"
      },
      "source": [
        "es = EarlyStopping(monitor='val_loss', mode='min', verbose=1,patience=2)"
      ],
      "execution_count": null,
      "outputs": []
    },
    {
      "cell_type": "code",
      "metadata": {
        "id": "ehVO3d9TnN8d"
      },
      "source": [
        "history=model.fit([x_train,y_train[:,:-1]], y_train.reshape(y_train.shape[0],y_train.shape[1], 1)[:,1:] ,epochs=50,callbacks=[es],batch_size=128, validation_data=([x_val,y_val[:,:-1]], y_val.reshape(y_val.shape[0],y_val.shape[1], 1)[:,1:]))"
      ],
      "execution_count": null,
      "outputs": []
    },
    {
      "cell_type": "code",
      "metadata": {
        "id": "QjFwwCznfasY"
      },
      "source": [
        "import matplotlib.pyplot as plt\n",
        "\n",
        "plt.plot(history.history['loss'], label='train')\n",
        "plt.plot(history.history['val_loss'], label='test')\n",
        "plt.legend()\n",
        "plt.show()"
      ],
      "execution_count": null,
      "outputs": []
    },
    {
      "cell_type": "code",
      "metadata": {
        "id": "vOCCUVtEG_KT",
        "colab": {
          "base_uri": "https://localhost:8080/",
          "height": 17
        },
        "outputId": "723b0e2e-2c20-4904-fef7-4ea2dec3cb92"
      },
      "source": [
        "model.save(\"summarization.h5\") #학습 모델 저장\n",
        "\n",
        "from google.colab import files\n",
        "files.download(\"summarization.h5\")"
      ],
      "execution_count": null,
      "outputs": [
        {
          "output_type": "display_data",
          "data": {
            "application/javascript": [
              "\n",
              "    async function download(id, filename, size) {\n",
              "      if (!google.colab.kernel.accessAllowed) {\n",
              "        return;\n",
              "      }\n",
              "      const div = document.createElement('div');\n",
              "      const label = document.createElement('label');\n",
              "      label.textContent = `Downloading \"${filename}\": `;\n",
              "      div.appendChild(label);\n",
              "      const progress = document.createElement('progress');\n",
              "      progress.max = size;\n",
              "      div.appendChild(progress);\n",
              "      document.body.appendChild(div);\n",
              "\n",
              "      const buffers = [];\n",
              "      let downloaded = 0;\n",
              "\n",
              "      const channel = await google.colab.kernel.comms.open(id);\n",
              "      // Send a message to notify the kernel that we're ready.\n",
              "      channel.send({})\n",
              "\n",
              "      for await (const message of channel.messages) {\n",
              "        // Send a message to notify the kernel that we're ready.\n",
              "        channel.send({})\n",
              "        if (message.buffers) {\n",
              "          for (const buffer of message.buffers) {\n",
              "            buffers.push(buffer);\n",
              "            downloaded += buffer.byteLength;\n",
              "            progress.value = downloaded;\n",
              "          }\n",
              "        }\n",
              "      }\n",
              "      const blob = new Blob(buffers, {type: 'application/binary'});\n",
              "      const a = document.createElement('a');\n",
              "      a.href = window.URL.createObjectURL(blob);\n",
              "      a.download = filename;\n",
              "      div.appendChild(a);\n",
              "      a.click();\n",
              "      div.remove();\n",
              "    }\n",
              "  "
            ],
            "text/plain": [
              "<IPython.core.display.Javascript object>"
            ]
          },
          "metadata": {
            "tags": []
          }
        },
        {
          "output_type": "display_data",
          "data": {
            "application/javascript": [
              "download(\"download_6ef9b702-e6f0-461f-9550-15ae3095f19e\", \"kaggle_model _ver2.h5\", 185305044)"
            ],
            "text/plain": [
              "<IPython.core.display.Javascript object>"
            ]
          },
          "metadata": {
            "tags": []
          }
        }
      ]
    },
    {
      "cell_type": "code",
      "metadata": {
        "id": "3tZCt6zHrvyZ"
      },
      "source": [
        "import tensorflow as tf\n",
        "from tensorflow import keras\n",
        "\n",
        "# 새로운 모델 객체를 만듭니다\n",
        "\n",
        "\n",
        "# 이전에 저장한 가중치를 로드합니다\n",
        "model.load_weights(\"/content/drive/MyDrive/ml_project/summarization.h5\")\n"
      ],
      "execution_count": null,
      "outputs": []
    },
    {
      "cell_type": "code",
      "metadata": {
        "id": "UEVmViyfiYD3"
      },
      "source": [
        "src_index_to_word = x_tokenizer.index_word # 원문 단어 집합에서 정수 -> 단어를 얻음\n",
        "tar_word_to_index = y_tokenizer.word_index # 요약 단어 집합에서 단어 -> 정수를 얻음\n",
        "tar_index_to_word = y_tokenizer.index_word # 요약 단어 집합에서 정수 -> 단어를 얻음"
      ],
      "execution_count": null,
      "outputs": []
    },
    {
      "cell_type": "code",
      "metadata": {
        "id": "48tBbz4Ri6dl"
      },
      "source": [
        "# 인코더 설계\n",
        "encoder_model = Model(inputs=encoder_inputs, outputs=[encoder_outputs, state_h, state_c])"
      ],
      "execution_count": null,
      "outputs": []
    },
    {
      "cell_type": "code",
      "metadata": {
        "id": "2lnYiKsVi71Q"
      },
      "source": [
        "# 이전 시점의 상태들을 저장하는 텐서\n",
        "decoder_state_input_h = Input(shape=(hidden_size,))\n",
        "decoder_state_input_c = Input(shape=(hidden_size,))\n",
        "\n",
        "dec_emb2 = dec_emb_layer(decoder_inputs)\n",
        "# 문장의 다음 단어를 예측하기 위해서 초기 상태(initial_state)를 이전 시점의 상태로 사용. 이는 뒤의 함수 decode_sequence()에 구현\n",
        "# 훈련 과정에서와 달리 LSTM의 리턴하는 은닉 상태와 셀 상태인 state_h와 state_c를 버리지 않음.\n",
        "decoder_outputs2, state_h2, state_c2 = decoder_lstm(dec_emb2, initial_state=[decoder_state_input_h, decoder_state_input_c])"
      ],
      "execution_count": null,
      "outputs": []
    },
    {
      "cell_type": "code",
      "metadata": {
        "id": "Nndz8-2Ci_Kn"
      },
      "source": [
        "# 어텐션 함수\n",
        "decoder_hidden_state_input = Input(shape=(max_text_len, hidden_size))\n",
        "attn_out_inf, attn_states_inf = attn_layer([decoder_hidden_state_input, decoder_outputs2])\n",
        "decoder_inf_concat = Concatenate(axis=-1, name='concat')([decoder_outputs2, attn_out_inf])\n",
        "\n",
        "# 디코더의 출력층\n",
        "decoder_outputs2 = decoder_softmax_layer(decoder_inf_concat) \n",
        "\n",
        "# 최종 디코더 모델\n",
        "decoder_model = Model(\n",
        "    [decoder_inputs] + [decoder_hidden_state_input,decoder_state_input_h, decoder_state_input_c],\n",
        "    [decoder_outputs2] + [state_h2, state_c2])"
      ],
      "execution_count": null,
      "outputs": []
    },
    {
      "cell_type": "code",
      "metadata": {
        "id": "FD13Pq2IjBPU"
      },
      "source": [
        "def decode_sequence(input_seq):\n",
        "    # 입력으로부터 인코더의 상태를 얻음\n",
        "    e_out, e_h, e_c = encoder_model.predict(input_seq)\n",
        "\n",
        "     # <SOS>에 해당하는 토큰 생성\n",
        "    target_seq = np.zeros((1,1))\n",
        "    target_seq[0, 0] = tar_word_to_index['sostok']\n",
        "\n",
        "    stop_condition = False\n",
        "    decoded_sentence = ''\n",
        "    while not stop_condition: # stop_condition이 True가 될 때까지 루프 반복\n",
        "\n",
        "        output_tokens, h, c = decoder_model.predict([target_seq] + [e_out, e_h, e_c])\n",
        "        sampled_token_index = np.argmax(output_tokens[0, -1, :])\n",
        "        sampled_token = tar_index_to_word[sampled_token_index]\n",
        "\n",
        "        if(sampled_token!='eostok'):\n",
        "            decoded_sentence += ' '+sampled_token\n",
        "\n",
        "        #  <eos>에 도달하거나 최대 길이를 넘으면 중단.\n",
        "        if (sampled_token == 'eostok'  or len(decoded_sentence.split()) >= (max_summary_len-1)):\n",
        "            stop_condition = True\n",
        "\n",
        "        # 길이가 1인 타겟 시퀀스를 업데이트\n",
        "        target_seq = np.zeros((1,1))\n",
        "        target_seq[0, 0] = sampled_token_index\n",
        "\n",
        "        # 상태를 업데이트 합니다.\n",
        "        e_h, e_c = h, c\n",
        "\n",
        "    return decoded_sentence"
      ],
      "execution_count": null,
      "outputs": []
    },
    {
      "cell_type": "code",
      "metadata": {
        "id": "5iLaMSWdjH0-"
      },
      "source": [
        "# 원문의 정수 시퀀스를 텍스트 시퀀스로 변환\n",
        "def seq2text(input_seq):\n",
        "    temp=''\n",
        "    for i in input_seq:\n",
        "        if(i!=0):\n",
        "            temp = temp + src_index_to_word[i]+' '\n",
        "    return temp\n",
        "\n",
        "# 요약문의 정수 시퀀스를 텍스트 시퀀스로 변환\n",
        "def seq2summary(input_seq):\n",
        "    temp=''\n",
        "    for i in input_seq:\n",
        "        if((i!=0 and i!=tar_word_to_index['sostok']) and i!=tar_word_to_index['eostok']):\n",
        "            temp = temp + tar_index_to_word[i] + ' '\n",
        "    return temp"
      ],
      "execution_count": null,
      "outputs": []
    },
    {
      "cell_type": "code",
      "metadata": {
        "colab": {
          "base_uri": "https://localhost:8080/"
        },
        "id": "XW829z-hjJi_",
        "outputId": "2c586234-0caf-4945-f27f-c6d649e8afd6"
      },
      "source": [
        "for i in range(0, 100):\n",
        "    print(\"원문 : \",seq2text(x_train[i]))\n",
        "    print(\"실제 요약문 :\",seq2summary(y_train[i]))\n",
        "    print(\"예측 요약문 :\",decode_sequence(x_train[i].reshape(1, max_text_len)))\n",
        "    print(\"\\n\")"
      ],
      "execution_count": null,
      "outputs": [
        {
          "output_type": "stream",
          "text": [
            "원문 :  congress led rajasthan government promoted total 120 officers including 51 indian administrative service ias 41 indian police service ips officers first day new year earlier december 25 many 68 ias officers transferred state government \n",
            "실제 요약문 : rajasthan government promotes 51 ias 41 ips officers \n",
            "예측 요약문 :  rajasthan govt promotes 51 ias 41 ips officers\n",
            "\n",
            "\n",
            "원문 :  centre reportedly granted environmental clearance industrial hub costing ã¢ââ¹91 crore karnataka chamarajanagar district project come area 460 acres expected generate employment opportunities 17 000 people notably karnataka chief minister siddaramaiah laid foundation stone project two years ago \n",
            "실제 요약문 : crore industrial hub in karnataka gets green clearance \n",
            "예측 요약문 :  centre extends crore for karnataka and complex\n",
            "\n",
            "\n",
            "원문 :  mexican journalist shot death sunday leaving restaurant wife son veracruz state journalist groups consider veracruz one country dangerous areas reporters notably mexico dangerous country latin america journalists work 99 journalists murdered 2000 2016 \n",
            "실제 요약문 : mexican journalist shot dead before his family \n",
            "예측 요약문 :  mexican journalist shot dead in his\n",
            "\n",
            "\n",
            "원문 :  australian pm malcolm turnbull tuesday abolished visa programme used nearly lakh temporary foreign workers majority indians turnbull announced australian workers must priority australian jobs turnbull added australian government would introduce new visa programme designed recruit best brightest national interest \n",
            "실제 요약문 : australia visa used by majority indian workers \n",
            "예측 요약문 :  australia visa visa amnesty used by indians\n",
            "\n",
            "\n",
            "원문 :  2015 indian epic historical fiction film baahubali beginning re release theatres april announced filmmaker karan johar time refresh memory epic tweeted johar baahubali conclusion second instalment film scheduled release april 28 screens highest ever film india \n",
            "실제 요약문 : baahubali the beginning to re release in theatres \n",
            "예측 요약문 :  baahubali the beginning re release in theatres\n",
            "\n",
            "\n",
            "원문 :  actor saif ali khan father ex india cricket captain mansoor ali khan pataudi accused killing blackbuck daughter soha rifle world environment day 2005 2015 six people pataudi hunting party sentenced three years jail pataudi name removed list accused death 2011 \n",
            "실제 요약문 : accused saif dad was also accused of killing blackbuck \n",
            "예측 요약문 :  saif ali khan is also actress priya saif\n",
            "\n",
            "\n",
            "원문 :  startup competition called polar bear pitching requires startup founders stand waist deep freezing water pitching funds held recently finland estonia based greenhouse optimisation startup competition grand prize 12 245 six thirty teams selected finals pitches two minutes length \n",
            "실제 요약문 : contest makes startups pitch to investors in freezing water \n",
            "예측 요약문 :  bear startup uses startups to make help\n",
            "\n",
            "\n",
            "원문 :  startup aiming become online hub hillary clinton supporters fell victim cyber attack endorsed twitter startup website clinton supporters find easy to share facts information stopped loading result pretty significant sophisticated cyber attack clinton tweet website creator said \n",
            "실제 요약문 : hackers attack pro clinton startup after she it \n",
            "예측 요약문 :  hackers attack pro clinton startup on june 30\n",
            "\n",
            "\n",
            "원문 :  statue netaji subhash chandra bose found vandalised smeared tar unveiling ceremony independence day west bengal birbhum district agitated villagers lodged police complaint unknown miscreants police said started investigation find culprits motive behind crime \n",
            "실제 요약문 : subhash chandra bose statue vandalised on independence day \n",
            "예측 요약문 :  subhash chandra bose statue vandalised on independence day\n",
            "\n",
            "\n",
            "원문 :  reacting sexual harassment allegations rajkumar hirani actress sayani gupta said like oh god also like actually trust know raju sir pretty well amazing conversations interactions really came shock added sayani said every single person comes needs heard \n",
            "실제 요약문 : was like him also actress on hirani metoo row \n",
            "예측 요약문 :  like your wife once accusing kriti sanon\n",
            "\n",
            "\n",
            "원문 :  nearly 100 residents mumbai came together ngos brihanmumbai municipal corporation workers clear 20 000 kg trash preserve mangroves region idea people stop using plastic bags try use eco friendly bags help reduce trash ends mangroves said assistant municipal commissioner \n",
            "실제 요약문 : people in mumbai clean 20 000 kg of trash \n",
            "예측 요약문 :  bengaluru lake to be converted into again\n",
            "\n",
            "\n",
            "원문 :  based driverless car startup zoox received permit authorities california us transport public passengers self driving cars zoox required authorities keep backup human driver vehicle give reports incidents founded 2014 startup aims publicly deploy fleet all electric autonomous vehicles 2020 nn \n",
            "실제 요약문 : driverless car startup gets permit to transport people \n",
            "예측 요약문 :  driverless car startup gets permit to transport transport\n",
            "\n",
            "\n",
            "원문 :  documentary called period end sentence based women india fighting stigma menstruation shortlisted oscars documentary short subject category film also revolves around arunachalam muruganantham invented easy to operate machine makes low cost sanitary napkins inspired bollywood film padman \n",
            "실제 요약문 : indian documentary on for oscars \n",
            "예측 요약문 :  indian culture may make oscars for oscars 2019\n",
            "\n",
            "\n",
            "원문 :  year old telangana student committed suicide jumping second floor school building failing cope parental pressure study iit foundation course boy father said knew son mentally disturbed never expected take extreme step notably according ncrb every hour student commits suicide india \n",
            "실제 요약문 : kills self after parents send him for iit coaching \n",
            "예측 요약문 :  jharkhand student commits suicide after getting exam\n",
            "\n",
            "\n",
            "원문 :  union cabinet wednesday approved plan set country first national rail transport university gujarat vadodara aimed providing skilled human resources build capability indian railways april year cabinet approved setting rail development authority improving services offered passengers \n",
            "실제 요약문 : cabinet approves 1st national rail and transport university \n",
            "예측 요약문 :  cabinet approves 1st ever national university in pune\n",
            "\n",
            "\n",
            "원문 :  researchers developed chemical sensing chip able detect cocaine within minutes lab experiments produced using raw materials cost around 10 cents nearly ã¢ââ¹7 fabrication techniques also low cost said researchers chip could integrated handheld device detecting drugs blood breath urine saliva \n",
            "실제 요약문 : chip costing ã¢ââ¹7 can out cocaine within minutes \n",
            "예측 요약문 :  chip costing ã¢ââ¹7 can out cocaine within minutes\n",
            "\n",
            "\n",
            "원문 :  shiv sena leader manisha kayande said congress leader saifuddin soz consider migrating pakistan become former president pervez musharraf servant much affection comes soz agreed musharraf assessment kashmiris would prefer independent given chance exercise upcoming book \n",
            "실제 요약문 : go to pakistan become musharraf shiv sena to \n",
            "예측 요약문 :  go to pakistan become musharraf shiv sena leader\n",
            "\n",
            "\n",
            "원문 :  ekta kapoor announced production house balaji motion pictures producing film amul founder kurien known milkman india film directed toilet ek prem katha director shree narayan singh adaptation book dream chronicles life kurien \n",
            "실제 요약문 : ekta kapoor to produce film on amul founder \n",
            "예측 요약문 :  ekta kapoor shares his his look from amul\n",
            "\n",
            "\n",
            "원문 :  north korean hacking group called lazarus stolen cryptocurrencies worth million hacking group responsible 14 hacking attacks cryptocurrency exchanges since january last year lazarus linked attacks banks government agencies across world targeted cryptocurrency exchanges phishing social engineering malware \n",
            "실제 요약문 : north korean hackers steal in cryptocurrency attacks \n",
            "예측 요약문 :  north korean hackers steal cryptocurrency attacks on attacks\n",
            "\n",
            "\n",
            "원문 :  five jharkhand policemen suspended jailed leader admitted government hospital friend residence avail western commode facility policemen took wheelchair bound leader singh outside hospital without official order singh returned hospital seven hours leaving hospital reports said \n",
            "실제 요약문 : jailed bjp leader leaves hospital to cops suspended \n",
            "예측 요약문 :  jailed bjp leader suspended for lying to cops\n",
            "\n",
            "\n",
            "원문 :  tiger shroff said wants make mark larger life hero like on screen image salman khan talking approach acting tiger added little different want practice prepare set skill think practice reach perfection lot re takes \n",
            "실제 요약문 : larger than life hero image like salman says tiger \n",
            "예측 요약문 :  tiger makes image of salman khan in days\n",
            "\n",
            "\n",
            "원문 :  jammu kashmir governor satya pal malik tuesday said bird harmed civic polls conducted peacefully discussing 4 2 voter turnout kashmir valley final phase malik said best added real factor overlooked complaints malpractice \n",
            "실제 요약문 : not bird was in civic polls says governor \n",
            "예측 요약문 :  bird has bird of evm in mizoram governor\n",
            "\n",
            "\n",
            "원문 :  nissan dethroned elon musk led tesla become world largest electric vehicle maker selling 37 000 electric vehicles first quarter 2017 12 000 units 25 000 electric vehicles sold tesla period nissan electric car leaf emerged world best selling electric vehicle \n",
            "실제 요약문 : renault nissan tesla as largest electric car maker \n",
            "예측 요약문 :  renault nissan tesla tesla launches electric car business\n",
            "\n",
            "\n",
            "원문 :  addressing rally rajasthan bjp president amit shah stated non performing assets npa results previous congress led government loans given corrupt practices congress government turned npas shah said added fugitives nirav modi vijay mallya didnã¢âât run away congress regime partnership government \n",
            "실제 요약문 : are result of previous cong led govt shah \n",
            "예측 요약문 :  previous cong more than previous cong govt amit\n",
            "\n",
            "\n",
            "원문 :  fashion designer masaba gupta collaborate game thrones official merchandise would include apparel jewellery home products per reports masaba shared picture brand logo show instagram merchandise available final season game thrones air 2019 according reports \n",
            "실제 요약문 : masaba got to collaborate for official reports \n",
            "예측 요약문 :  masaba got to collaborate for official reports\n",
            "\n",
            "\n",
            "원문 :  haryana government ignored intelligence bureau warning dera sacha sauda followers could ignite violence case decision gurmeet ram rahim ib head constable posted sirsa said government warned use weapons including explosives added dera followers given police style training using firearms \n",
            "실제 요약문 : haryana govt ignored intel warnings about dera violence \n",
            "예측 요약문 :  haryana govt ignored intel warnings about dera violence\n",
            "\n",
            "\n",
            "원문 :  external affairs minister sushma swaraj thursday sought report government incident mob attack swiss couple fatehpur sikri sunday couple allegedly chased group men attacked sticks stones left wounded road suspect arrested police wednesday \n",
            "실제 요약문 : swiss couple attacked by mob sushma swaraj seeks report \n",
            "예측 요약문 :  sushma swaraj helps swaraj seeks swaraj help help\n",
            "\n",
            "\n",
            "원문 :  centre done away requirement commercial licences drive taxis auto rickshaws e rickshaws allowing commercial drivers use personal licences however commercial licence still required driving trucks buses heavy commercial vehicles government officials said move likely increase employment opportunities drivers \n",
            "실제 요약문 : commercial licence no longer needed to drive taxis \n",
            "예측 요약문 :  commercial licence no longer needed for commercial drive\n",
            "\n",
            "\n",
            "원문 :  nfl side new york jets running back penalised officials seen making butt wiping motion ball form celebration following touchdown handed 15 yard penalty conduct said think touchdown celebration game \n",
            "실제 요약문 : nfl athlete penalised for butt with ball celebration \n",
            "예측 요약문 :  nfl athlete penalised for butt with ball celebration\n",
            "\n",
            "\n",
            "원문 :  actress vidya balan revealed emraan hashmi jokingly asked husband siddharth roy kapur would say watching kissing scene emraan added scene say something really ridiculous kept telling think get last cheque siddharth roy kapur one producers \n",
            "실제 요약문 : asked what husband would say on kissing scene vidya \n",
            "예측 요약문 :  relationship with husband would say say am actresses\n",
            "\n",
            "\n",
            "원문 :  zomato suspended first ever paid subscription service zomato treats running 18 months priced year zomato treats used offer free dessert every online order suspended fresh sign ups zomato treats however existing members continue enjoy benefits associated program zomato spokesperson said \n",
            "실제 요약문 : zomato suspends its zomato treats service after 18 months \n",
            "예측 요약문 :  zomato suspends service service for months over service\n",
            "\n",
            "\n",
            "원문 :  post mortem reports victims mumbai restaurant fire revealed suffocation behind deaths victims mostly women gathered birthday party locked washroom fire broke lost lives inside fire rooftop restaurant claimed lives least 14 people \n",
            "실제 요약문 : mumbai fire victims stayed in bathroom died of \n",
            "예측 요약문 :  mumbai fire victims stayed in bathroom died of\n",
            "\n",
            "\n",
            "원문 :  claiming ram temple ayodhya promote harmony society rss chief mohan bhagwat thursday said ho mandir chahiye matter temple must built supporting call early construction temple added lord ram pride must memorial dedicated \n",
            "실제 요약문 : ho ram mandir says rss chief \n",
            "예측 요약문 :  ho ram mandir to appear rss chief\n",
            "\n",
            "\n",
            "원문 :  american business magnate billionaire bill gates recipient mcdonald lifetime gold card let us eat fast food chain worldwide free microsoft founder reportedly cheeseburgers lunch hotel rooms full diet interestingly gates foundation liquidated share mcdonald 2015 \n",
            "실제 요약문 : bill gates can eat at mcdonald worldwide for free \n",
            "예측 요약문 :  anand finishes 1st eatery at mcdonald worldwide\n",
            "\n",
            "\n",
            "원문 :  slammed tweet wherein described morning azaan played loudspeakers extreme imposed religiosity singer suchitra krishnamoorthi said sonu nigam tweet azaan area become louder almost like retaliation added suchitra said bhajans temple church bells playing loudly right either \n",
            "실제 요약문 : azaan in my area became after sonu tweet suchitra \n",
            "예측 요약문 :  extreme imposed by suchitra on azaan tweet\n",
            "\n",
            "\n",
            "원문 :  italian luxury fashion house partnered games company king create limited edition candy crush themed collection celebrate fifth anniversary game collection includes swimwear backpack iphone case least expensive item phone case comes ã¢ââ¹4 512 costliest item backpack comes ã¢ââ¹41 nn \n",
            "실제 요약문 : fashion house creates candy crush themed collection \n",
            "예측 요약문 :  fashion time creates candy crush themed collection\n",
            "\n",
            "\n",
            "원문 :  former captain sunil gavaskar said astonished surprised indian captain virat kohli decision open second day play ishant sharma instead jasprit bumrah would give bumrah ball straight away start day play questioned gavaskar \n",
            "실제 요약문 : and sunil gavaskar on kohli captaincy \n",
            "예측 요약문 :  sunil gavaskar on kohli captaincy\n",
            "\n",
            "\n",
            "원문 :  prashant jha stepped bureau chief national political editor hindustan times following allegations sexual misconduct ex employee daily ex employee accused jha making feel uncomfortable shared screenshots whatsapp conversations twitter showed jha asking ex employee allowed hit her \n",
            "실제 요약문 : bureau chief steps down after sexual misconduct allegations \n",
            "예측 요약문 :  bureau chief steps down after sexual misconduct allegations\n",
            "\n",
            "\n",
            "원문 :  telugu filmmaker puri interrogated ten hours special investigation team sit probing drug racket case hyderabad reportedly admitted sit drugs small quantities later twitter video puri claimed done anything illegal including drugs denied links racket kingpin \n",
            "실제 요약문 : telugu director for 10 hrs in drug racket case \n",
            "예측 요약문 :  telugu actor confirms director arrest in drug racket\n",
            "\n",
            "\n",
            "원문 :  prime minister narendra modi visited total 49 countries last three years government said response question parliament friday modi foreign trips pm started visit bhutan june 2014 visited usa five times last three years \n",
            "실제 요약문 : pm modi visited 49 countries in the last years \n",
            "예측 요약문 :  pm modi visited 49 countries in last years\n",
            "\n",
            "\n",
            "원문 :  newly married woman andhra pradesh got husband killed could live lover met facebook police said woman saraswathi returning home husband monday night asked stop bike three men allegedly came autorickshaw killed him \n",
            "실제 요약문 : woman gets husband killed to be with facebook friend \n",
            "예측 요약문 :  bride sees husband starved to death for months\n",
            "\n",
            "\n",
            "원문 :  photojournalist shared picture dar yasin press photographer set aside camera help injured student protest srinagar told girl friends two daughters girl like one yasin said yasin said helped realising one around help \n",
            "실제 요약문 : drops camera to save girl hit during protest \n",
            "예측 요약문 :  drops camera into salon in school\n",
            "\n",
            "\n",
            "원문 :  world biggest uranium producer start producing nuclear fuel chinese power plants 2019 joint venture set two countries according reports first stage joint venture produce 200 tonnes ready to use nuclear fuel assemblies year using technologies equipment supplied france reports added \n",
            "실제 요약문 : kazakhstan to produce nuclear fuel for china \n",
            "예측 요약문 :  kazakhstan to produce nuclear fuel deal with china\n",
            "\n",
            "\n",
            "원문 :  fiat chrysler automobiles recalled certain jeep compass along dodge journey dodge grand caravan jeep vehicles brake performance issues among nearly 10 000 vehicles recalled estimated 54 000 us alone vehicles recalled fix brake problem longer stopping distances \n",
            "실제 요약문 : jeep recalled for faulty brake system \n",
            "예측 요약문 :  jeep recalled for faulty brake system\n",
            "\n",
            "\n",
            "원문 :  us space agency nasa thursday unveiled list nine new partners contracted design build lunar landers moon exploration contracts spread across 10 years collectively amount 2 6 billion earlier week nasa administrator jim bridenstine tweeted us returning surface moon sooner think \n",
            "실제 요약문 : contracts companies for moon mission for 2 6 billion \n",
            "예측 요약문 :  nasa to launch its mission for moon mission\n",
            "\n",
            "\n",
            "원문 :  man convicted court raping 11 year old girl sentenced seven years prison uttar pradesh muzaffarnagar finding man guilty multiple acts court also imposed fine ã¢ââ¹25 000 accused raped girl may 2015 taking residence \n",
            "실제 요약문 : man sentenced to years in jail for raping minor \n",
            "예측 요약문 :  man convicted for raping killing 6 year old\n",
            "\n",
            "\n",
            "원문 :  american boxer mike tyson visit india said tennis player serena williams unfairly targeted us open 2018 final also said player could handled better thought wrong call chair umpire made arguing would never done serena good tyson added \n",
            "실제 요약문 : serena targeted but could have handled herself better tyson \n",
            "예측 요약문 :  sharapova slams un over world media\n",
            "\n",
            "\n",
            "원문 :  councillor australian town katherine got graffiti reading jesus loves trademarked toni said hopes trademark boost town tourism graffiti side railway bridge since 1980s believed become synonymous town found spray painted several places nn \n",
            "실제 요약문 : aus town councillor trademarks jesus graffiti \n",
            "예측 요약문 :  aus town councillor trademarks jesus graffiti\n",
            "\n",
            "\n",
            "원문 :  ajay reddy captain india blind world cup winning cricket team said sachin tendulkar sir pm narendra modi tweeting congratulations one comes offers support need tweets reddy pointed unlike india pakistani blind cricket team gets regular salaries supported country cricket board \n",
            "실제 요약문 : need support not tweets india blind wc winning captain \n",
            "예측 요약문 :  indian film is pm modi blind actor\n",
            "\n",
            "\n",
            "원문 :  sidelined aiadmk leader ttv dhinakaran said ready merge party faction led tamil nadu cm ek palaniswami deputy cm panneerselvam sack six ministers cabinet ttv demanded one 18 disqualified mlas faction appointed chief minister \n",
            "실제 요약문 : appoint new cm sack ministers ttv offers merger deal \n",
            "예측 요약문 :  deal with aiadmk merger sasikala\n",
            "\n",
            "\n",
            "원문 :  challenging west bengal bjp chief dilip ghosh boxing match state minister rabindra nath ghosh said break ghosh nose eyes face maximum minutes required defeat added comes dilip ghosh booked wielding bow arrow ram navami rally despite ban displaying weapons \n",
            "실제 요약문 : break state bjp chief face in minutes wb minister \n",
            "예측 요약문 :  mamata banerjee enters face to state during president\n",
            "\n",
            "\n",
            "원문 :  seven cops including two inspectors suspended security breach official residence bihar cm nitish kumar marg comes deputy superintendent police ranjan entered vip area cm residence without appointment altercation cop posted house according reports \n",
            "실제 요약문 : cops suspended over security breach at bihar cm house \n",
            "예측 요약문 :  suspended for attacking cm attacking bihar cm kejriwal\n",
            "\n",
            "\n",
            "원문 :  singer composer baba sehgal released new music video goods services tax gst rolled out saturday song sung composed written baba sehgal ho gaya gst people show honesty gst gst gst lyrics song \n",
            "실제 요약문 : baba releases song on gst \n",
            "예측 요약문 :  baba releases song while gst\n",
            "\n",
            "\n",
            "원문 :  motorcycle used murder journalist gauri lankesh found senior official maharashtra police anti terrorism squad ats said saturday 10 people arrested connection murder gauri opening gate house bengaluru two motorcycle borne assailants shot 2017 n \n",
            "실제 요약문 : motorcycle used in gauri lankesh murder found maha ats \n",
            "예측 요약문 :  cctvs used in lankesh murder case\n",
            "\n",
            "\n",
            "원문 :  stating light hearted tweet congress leader shashi tharoor sunday apologised using miss world manushi chhillar surname pun tweet demonetisation taking dig bjp led centre demonetisation drive earlier tweeted bjp realised indian cash dominates globe look even chhillar become miss world \n",
            "실제 요약문 : shashi tharoor apologises for on miss world surname \n",
            "예측 요약문 :  shashi tharoor apologises for great with surname\n",
            "\n",
            "\n",
            "원문 :  us based ride hailing startup lyft thursday filed statement us securities exchange commission initial public offering lyft last valued 15 1 billion specify number shares would selling offering price range ipo reportedly slated take place first half 2019 \n",
            "실제 요약문 : ride hailing startup lyft files for us ipo \n",
            "예측 요약문 :  ride hailing startup lyft files for ipo\n",
            "\n",
            "\n",
            "원문 :  mcdonald south west india operator restaurants said stopped use plastic cutlery outlets switched wooden cutlery paper straws move biodegradable non plastic alternatives able reduce 200 tonnes plastic per year company spokesperson said 277 mcdonald restaurants across west south india \n",
            "실제 요약문 : mcdonald stops use of plastic in west south india \n",
            "예측 요약문 :  uk stops plastic to plastic awareness on plastic\n",
            "\n",
            "\n",
            "원문 :  actress sunny leone husband daniel weber celebrated adopted daughter nisha kaur weber 2nd birthday arizona us sunny daniel adopted nisha latur maharashtra sunny earlier said matter whether nisha biological child adding us starting family \n",
            "실제 요약문 : sunny celebrate adopted daughter 2nd day in us \n",
            "예측 요약문 :  sunny celebrate adopted daughter 2nd day in us\n",
            "\n",
            "\n",
            "원문 :  germany monday launched world first zero emission hydrogen trains run 100 kilometre stretch built french rail transport company trains equipped fuel cells produce electricity combining hydrogen oxygen leaving water steam emissions trains travel 000 kilometres single hydrogen tank \n",
            "실제 요약문 : germany launches world first hydrogen powered train \n",
            "예측 요약문 :  germany launches world first hydrogen powered train\n",
            "\n",
            "\n",
            "원문 :  police authorities tuesday seized nathuram godse statue installed hindu mahasabha office gwalior one outfit workers arrested manhunt launched nab responsible installing bust police said comes officials sent mahasabha show notice terming act illegal \n",
            "실제 요약문 : cops seize godse bust from hindu mahasabha office \n",
            "예측 요약문 :  cops seize godse bust from hindu mahasabha office\n",
            "\n",
            "\n",
            "원문 :  around 200 muslims forced leave rajasthan village following threats upper caste hindus police said problems communities began folk singer allegedly killed upper caste hindus objecting muslims decision file fir murder hindus reportedly threatened kill forced leave \n",
            "실제 요약문 : caste hindus force muslims to leave rajasthan village \n",
            "예측 요약문 :  caste hindus muslims have no caste hindus up\n",
            "\n",
            "\n",
            "원문 :  least four security guards killed six others wounded suicide blast near us air force base afghanistan khost monday reports said blast occurred shortly us defense secretary jim mattis arrived country unannounced visit comes around 140 soldiers killed taliban attack \n",
            "실제 요약문 : in blast in afghanistan near us air force base \n",
            "예측 요약문 :  killed injured in suicide bombing in afghanistan\n",
            "\n",
            "\n",
            "원문 :  miss america runner up jennifer davis performed bollywood song talent round pageant 2018 edition said loves indian culture bollywood performances davis added beauty dance matter come common love dance \n",
            "실제 요약문 : miss america runner up to wood song for pageant \n",
            "예측 요약문 :  was originally called at game\n",
            "\n",
            "\n",
            "원문 :  fir filed bigg boss 11 participant zubair khan pretending son in law underworld dawood ibrahim sister haseena parkar said sameer member dawood family added fraud misusing dawood title publicity sameer said woman zubair claims married already married businessman \n",
            "실제 요약문 : bigg boss lying he is dawood kin gangster family \n",
            "예측 요약문 :  fir against gangster who he is dawood kin\n",
            "\n",
            "\n",
            "원문 :  six global investors including warburg pincus temasek softbank agreed invest 1 25 billion airtel africa bharti airtel said wednesday following announcement airtel shares rose much 15 day airtel africa use proceeds primary equity issuance bring debt 5 billion grow business \n",
            "실제 요약문 : rise 15 after africa unit raises 1 25 billion \n",
            "예측 요약문 :  india largest bank truck raises 400 million\n",
            "\n",
            "\n",
            "원문 :  smuggling gold saffron separate cases delhi airport first case passenger allegedly handed 23 bars gold worth ã¢ââ¹71 05 lakh indigo staffer airport bathroom another case passenger arrested allegedly attempting smuggle gold worth ã¢ââ¹42 67 lakh saffron worth ã¢ââ¹3 lakh overseas \n",
            "실제 요약문 : passengers caught smuggling gold saffron at delhi airport \n",
            "예측 요약문 :  gold bars delhi airport with gold worth ã¢ââ¹24\n",
            "\n",
            "\n",
            "원문 :  american swimmer ryan winner 12 olympic medals including six gold medals handed 14 month ban us anti doping agency anti doping violation posted picture getting iv injection twitter may lead investigation ban may received treatment \n",
            "실제 요약문 : of 12 olympic medals banned for anti doping violation \n",
            "예측 요약문 :  olympian dipa banned from athlete for anti doping\n",
            "\n",
            "\n",
            "원문 :  us space agency nasa friday shared first sounds winds recorded insight spacecraft planet mars december two sensors picked vibrations strong wind blowing five seven meters per second insight landed mars completing nearly seven month long million kilometre journey november 26 \n",
            "실제 요약문 : nasa shares first sounds from mars \n",
            "예측 요약문 :  nasa shares first sounds from mars\n",
            "\n",
            "\n",
            "원문 :  stating us president donald trump trying break 2015 nuclear deal 15 months iran president hassan rouhani said deal strong shaken quakes assuring iran violate deal rouhani said us withdraws deal surely regret \n",
            "실제 요약문 : nuclear deal not by trump quakes iran prez rouhani \n",
            "예측 요약문 :  trump call with iran nuclear deal\n",
            "\n",
            "\n",
            "원문 :  carrying physical copy driving licence vehicle registration certificate rc compulsory government digital copies ministry road transport highways said states issued advisory accept documents digital format presented government platform \n",
            "실제 요약문 : carrying hard copy of driving licence not compulsory now \n",
            "예측 요약문 :  man driving car not licence to not govt\n",
            "\n",
            "\n",
            "원문 :  bsp supremo mayawati monday voiced union minister mj akbar demanded action sexual harassment accusations supporting metoo movement said provided platform working women raise voice sexual exploitation serve political interests bjp continue women play security well added \n",
            "실제 요약문 : mayawati demands action against mj akbar supports metoo \n",
            "예측 요약문 :  mayawati demands action against mj akbar supports metoo\n",
            "\n",
            "\n",
            "원문 :  woman police constable meerut filed fir inspector allegedly raping repeatedly eight years constable became inspector connection case said spiked drink raped made video gunpoint 2010 said inspector threatened circulating video \n",
            "실제 요약문 : fir against inspector for raping woman constable for \n",
            "예측 요약문 :  fir against inspector for raping woman constable\n",
            "\n",
            "\n",
            "원문 :  13 year old thai boxer died succumbing injuries sustained charity fight reportedly suffered brain haemorrhage repeatedly hit head opponent following tragedy uncle said would like see authorities make use protective gear compulsory fighters aged 15 \n",
            "실제 요약문 : old dies after head injuries in thai boxing match \n",
            "예측 요약문 :  footballer dies after injuries in his rhino\n",
            "\n",
            "\n",
            "원문 :  per reports bihar ministers renting official bungalows private functions including marriages parties nearly ã¢ââ¹3 lakh per day empty field behind house people need marriages let use take money anybody said one accused ministers ram \n",
            "실제 요약문 : bihar ministers rent out for parties at ã¢ââ¹3l day \n",
            "예측 요약문 :  bihar cabinet approves donations for parties\n",
            "\n",
            "\n",
            "원문 :  actor rajkummar rao replaced actor shahid kapoor director imtiaz ali next film according reports issues script due shahid part film reports claimed imtiaz reportedly working changes script required suit personality rajkummar \n",
            "실제 요약문 : rajkummar rao replaces shahid in imtiaz ali next reports \n",
            "예측 요약문 :  rajkummar rao replaces shahid in imtiaz ali reports\n",
            "\n",
            "\n",
            "원문 :  department posts personnel wear khaki coloured uniforms february 2018 department redesigned uniform collaboration national institute fashion technology ã¢ââ¹48 crore order supply uniforms 90 000 personnel awarded khadi village industries commission minister state giriraj singh launched uniforms tuesday \n",
            "실제 요약문 : post office staff get new designed khadi uniforms \n",
            "예측 요약문 :  four maharashtra govt staff get new designed khadi\n",
            "\n",
            "\n",
            "원문 :  group looking exit telecom business reportedly talks bharti airtel sell assets along dth business tata sky reports suggested airtel interested tata telecom assets including towers sea cables around 4 5 crore active subscribers tata telecom business debt ã¢ââ¹31 000 crore \n",
            "실제 요약문 : may sell telecom assets tata sky to airtel reports \n",
            "예측 요약문 :  telecom telecom assets to be auctioned telecom sky\n",
            "\n",
            "\n",
            "원문 :  atmosphere well protected effects solar wind hitting planet despite absence global earth like magnetic sweden based study claimed scientists used data european space agency mars express spacecraft studying planet since 2004 present day mars less 1 earth atmospheric pressure surface \n",
            "실제 요약문 : mars atmosphere well protected from solar wind study \n",
            "예측 요약문 :  mars atmosphere well protected from solar wind study\n",
            "\n",
            "\n",
            "원문 :  adidas shares rose record high thursday sportswear firm reported bigger expected increase first quarter profit rival nike north america china adidas sales rose 31 quarter compared nike 3 rise north america adidas benefiting shift towards retro styles hurt nike \n",
            "실제 요약문 : adidas shares hit record high as it rival nike \n",
            "예측 요약문 :  maker market surges despite nearly 100 million\n",
            "\n",
            "\n",
            "원문 :  albinder dhindsa co founder ceo online grocery delivery platform grofers interview said 2015 good year 2016 struggle us grofers reported substantial revenue hike shifting marketplace inventory model 2017 dhindsa added focus lower middle class middle class helped platform succeed 2016 \n",
            "실제 요약문 : 2016 was struggle for us grofers co founder \n",
            "예측 요약문 :  2016 was struggle for us grofers co founder\n",
            "\n",
            "\n",
            "원문 :  nine crpf personnel tuesday lost lives ied blast naxals chhattisgarh sukma district reports said 100 naxals carried ambush attack crpf personnel mine protected vehicle blown personnel combing operation area reports added \n",
            "실제 요약문 : crpf personnel martyred in naxal attack in chhattisgarh \n",
            "예측 요약문 :  crpf personnel martyred in naxal attack in chhattisgarh\n",
            "\n",
            "\n",
            "원문 :  nearly three months article 50 triggered britain european union today brussels started negotiations terms uk leave bloc 44 years membership negotiations come amid continued uncertainty uk pm theresa may failed secure parliamentary majority could strengthened position negotiations \n",
            "실제 요약문 : brexit negotiations begin in today \n",
            "예측 요약문 :  brexit negotiations begin in india\n",
            "\n",
            "\n",
            "원문 :  pilot killed mig 21 aircraft indian air force crashed himachal pradesh kangra district wednesday jet took pathankot punjab crashed around 1 20 pm village around 70 km dharamshala earlier june another pilot killed indian air force fighter jet crashed gujarat \n",
            "실제 요약문 : after iaf mig 21 fighter jet crashes in himachal \n",
            "예측 요약문 :  iaf aircraft crashes in iaf pilot in himachal\n",
            "\n",
            "\n",
            "원문 :  aap faced defeat rajouri garden by poll delhi cm arvind kejriwal friday said people angry aap mla jarnail singh left seat fight punjab assembly election tried calm could anger added however maintained by poll defeat would impact mcd polls \n",
            "실제 요약문 : people were angry as left garden kejriwal \n",
            "예측 요약문 :  time should commit kejriwal over delhi cm kejriwal\n",
            "\n",
            "\n",
            "원문 :  india council technical education friday announced shut engineering colleges registered less 30 admissions last five years notably 10 engineering institutions india total intake capacity 37 lakh students 27 lakh seats vacant last three years \n",
            "실제 요약문 : to close colleges with less than 30 \n",
            "예측 요약문 :  activities of engineering graduates have engineering colleges\n",
            "\n",
            "\n",
            "원문 :  freecharge co founder kunal shah raised 30 million clutch investors led venture capital firm sequoia capital start new venture according reports shah planning start incubator sectors like consumer finance healthcare education january shah took twitter announce excited startup 2018 \n",
            "실제 요약문 : co founder raises 30 mn for new startup reports \n",
            "예측 요약문 :  co founder invests in new york startup\n",
            "\n",
            "\n",
            "원문 :  indian american sikh businessman harry singh sidhu elected mayor anaheim city california us sidhu moved us along parents 1974 previously served member anaheim city council first sikh mayor anaheim \n",
            "실제 요약문 : indian american elected mayor of us city \n",
            "예측 요약문 :  indian american elected mayor of us city\n",
            "\n",
            "\n",
            "원문 :  health ministry ordered thorough inquiry 14 bodies donated dera sacha sauda lucknow based medical college research allegedly without death certificates college said receive requisite death certificates adding acquired signed affidavits regarding donations kin deceased \n",
            "실제 요약문 : ordered into dera donation of 14 bodies for research \n",
            "예측 요약문 :  punjab govt orders bodies of drug violence\n",
            "\n",
            "\n",
            "원문 :  actress kangana ranaut talking joining politics said national servant family kids alternate career politician nothing government servant said whenever decide take path utmost dignity full focus \n",
            "실제 요약문 : if become politician wonã¢âât have kids career kangana \n",
            "예측 요약문 :  have wives with wives do not become kangana\n",
            "\n",
            "\n",
            "원문 :  indian boxer vijender singh revealed former coach ca sole dronacharya awardee indian boxing year beaten national tournament 2003 man integrity took care needed never forget vijender said \n",
            "실제 요약문 : defeated ex boxing coach in 2003 national tournament vijender \n",
            "예측 요약문 :  vijender bout with indian coach of indian wwe\n",
            "\n",
            "\n",
            "원문 :  mob local boys jammu kashmir kupwara area thrashed indian army suspicion involved braid chopping incident according reports soldier rescued army personnel condition critical reports added many 40 incidents braid chopping reported kashmir valley \n",
            "실제 요약문 : mob thrashes soldier accused of braid in \n",
            "예측 요약문 :  mob thrashes soldier accused of braid in\n",
            "\n",
            "\n",
            "원문 :  nearly 000 children us mexico border separated parents legal guardians period six weeks us officials said came new government policy called separating families entering us illegally placing children protective custody move part government zero tolerance policy towards illegal migration \n",
            "실제 요약문 : us 000 migrant children from families at border \n",
            "예측 요약문 :  mexico burnt to save families separated at border\n",
            "\n",
            "\n",
            "원문 :  railway minister piyush goyal instructed indian railway catering tourism corporation make railway reserved accommodation available commercial purposes stating colonial mindset place modern india saloon coaches usually feature two bedrooms lounge toilet kitchen earlier reserved railway officials \n",
            "실제 요약문 : railways to provide coaches for commercial \n",
            "예측 요약문 :  railways to provide coaches to all commercial\n",
            "\n",
            "\n",
            "원문 :  people facing ordeal allegedly faulty johnson johnson hip implants gather delhi september 15 demand accountability patients expressed dissatisfaction actions taken government pharma giant claiming transparency patient revealed non providing compensation affected patients \n",
            "실제 요약문 : hip implant patients to meet in delhi seek \n",
            "예측 요약문 :  hip implant patients to meet in delhi seek\n",
            "\n",
            "\n",
            "원문 :  swachh bharat abhiyan mascot bai passed away aged 106 chhattisgarh raipur due prolonged illness state government selected mascot sold goats build toilets house felicitating bai efforts make village open defecation free pm narendra modi urged media spread story \n",
            "실제 요약문 : 106 yr old swachh bharat mascot passes away \n",
            "예측 요약문 :  106 yr old swachh bharat mascot passes away\n",
            "\n",
            "\n",
            "원문 :  us based physicists generated brightest light ever produced equivalent one billion times sun surface laser achieved milestone also helped observe changes light matter interaction light typically angle regardless brightness however found threshold brightness altered scattered light angle shape wavelength \n",
            "실제 요약문 : world light bn times than sun created \n",
            "예측 요약문 :  scientists create the world first digital total mission\n",
            "\n",
            "\n",
            "원문 :  baahubali set dubbed chinese japanese korean taiwanese per producer yarlagadda want make baahubali accessible non english speaking audiences world said yarlagadda added makers decided start china seeing incredible number theatres across china \n",
            "실제 요약문 : baahubali to be in chinese japanese korean \n",
            "예측 요약문 :  baahubali to korean in south china sea\n",
            "\n",
            "\n",
            "원문 :  man sentenced life imprisonment sexually assaulting 16 year old girl slitting throat refused advances accused used stalk victim reportedly tried commit suicide spotted neighbours trying flee victim rushed hospital gave written statement police \n",
            "실제 요약문 : mumbai man gets life term for sexually assaulting minor \n",
            "예측 요약문 :  man convicted for sexually assaulting minor girl\n",
            "\n",
            "\n",
            "원문 :  truck driver caused significant damage drove lines 000 year old unesco world heritage site peru ancient site consists lines drawn dirt carved members pre civilization truck driver accused ignoring multiple warning signs attempt avoid paying toll \n",
            "실제 요약문 : ploughs over world heritage site to avoid paying toll \n",
            "예측 요약문 :  driver hits world heritage site for toll heritage\n",
            "\n",
            "\n",
            "원문 :  police friday told city court cannot de seal five star hotel room congress leader shashi tharoor wife sunanda pushkar found dead 2014 three years incident police said still need time investigate case hotel claimed loss ã¢ââ¹50 lakh room remained sealed \n",
            "실제 요약문 : room where sunanda pushkar died not opened in years \n",
            "예측 요약문 :  pushkar died where sunanda pushkar died opened\n",
            "\n",
            "\n"
          ],
          "name": "stdout"
        }
      ]
    },
    {
      "cell_type": "code",
      "metadata": {
        "id": "lUEDo2KzjL4I"
      },
      "source": [
        ""
      ],
      "execution_count": null,
      "outputs": []
    }
  ]
}